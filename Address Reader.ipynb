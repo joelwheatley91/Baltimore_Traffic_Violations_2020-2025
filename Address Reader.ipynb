{
 "cells": [
  {
   "cell_type": "code",
   "execution_count": 6,
   "id": "151fd849-7e35-4e2d-a39c-56e0b80ad458",
   "metadata": {},
   "outputs": [],
   "source": [
    "import pandas as pd\n",
    "from geopy import Nominatim"
   ]
  },
  {
   "cell_type": "code",
   "execution_count": 38,
   "id": "eedd9c41-186e-4067-b0b5-fc82a6b5086f",
   "metadata": {},
   "outputs": [],
   "source": [
    "url = \"speed_camera_df.csv\"\n",
    "df =pd.read_csv(url)"
   ]
  },
  {
   "cell_type": "code",
   "execution_count": 48,
   "id": "aa18a300-81bd-40ad-9b2e-4919d25375db",
   "metadata": {
    "scrolled": true
   },
   "outputs": [
    {
     "data": {
      "text/plain": [
       "(214, 10)"
      ]
     },
     "execution_count": 48,
     "metadata": {},
     "output_type": "execute_result"
    }
   ],
   "source": [
    "df.shape"
   ]
  },
  {
   "cell_type": "code",
   "execution_count": 50,
   "id": "521f48ce-0ade-4a4c-b41d-8deea8860dbd",
   "metadata": {},
   "outputs": [
    {
     "name": "stdout",
     "output_type": "stream",
     "text": [
      "Empty Addresss: 0\n",
      "Empty Locations: 214\n",
      "Empty latitudes: 63\n",
      "Empty longitudes: 63\n",
      "Empty sum(ViolFine)s: 0\n",
      "Empty sum(OpenFine)s: 0\n",
      "Empty sum(OpenPenalty)s: 0\n",
      "Empty sum(Balance)s: 0\n",
      "Empty RevenueCollecteds: 0\n",
      "Empty PctNotPaids: 0\n"
     ]
    }
   ],
   "source": [
    "for column in df.columns:\n",
    "    print(\"Empty \"+ column +\"s: \" + str(df[column].isna().sum()))"
   ]
  },
  {
   "cell_type": "code",
   "execution_count": 53,
   "id": "1a5d03b3-ac6f-4aa8-8482-d456c97c92b8",
   "metadata": {},
   "outputs": [],
   "source": [
    "df[\"Neighborhood\"] = df.groupby(\"Address\")[\"Neighborhood\"].transform(\"first\")"
   ]
  },
  {
   "cell_type": "code",
   "execution_count": 55,
   "id": "fd9fe2e6-8579-42ac-ab43-8a341e5e63b6",
   "metadata": {},
   "outputs": [
    {
     "data": {
      "text/plain": [
       "5408554"
      ]
     },
     "execution_count": 55,
     "metadata": {},
     "output_type": "execute_result"
    }
   ],
   "source": [
    "df[\"Neighborhood\"].isna().sum()"
   ]
  },
  {
   "cell_type": "code",
   "execution_count": 51,
   "id": "707eb9d7-e012-4552-9de5-b62901e55084",
   "metadata": {},
   "outputs": [
    {
     "data": {
      "text/plain": [
       "244722"
      ]
     },
     "execution_count": 51,
     "metadata": {},
     "output_type": "execute_result"
    }
   ],
   "source": [
    "df[df[\"Neighborhood\"].notna()][\"Neighborhood\"].count()"
   ]
  },
  {
   "cell_type": "code",
   "execution_count": 59,
   "id": "2d3830b4-1149-4d9c-891b-6b38cc684a94",
   "metadata": {},
   "outputs": [
    {
     "data": {
      "text/html": [
       "<div>\n",
       "<style scoped>\n",
       "    .dataframe tbody tr th:only-of-type {\n",
       "        vertical-align: middle;\n",
       "    }\n",
       "\n",
       "    .dataframe tbody tr th {\n",
       "        vertical-align: top;\n",
       "    }\n",
       "\n",
       "    .dataframe thead th {\n",
       "        text-align: right;\n",
       "    }\n",
       "</style>\n",
       "<table border=\"1\" class=\"dataframe\">\n",
       "  <thead>\n",
       "    <tr style=\"text-align: right;\">\n",
       "      <th></th>\n",
       "      <th>Address</th>\n",
       "      <th>Neighborhood</th>\n",
       "    </tr>\n",
       "  </thead>\n",
       "  <tbody>\n",
       "    <tr>\n",
       "      <th>0</th>\n",
       "      <td>400 E BALTIMORE ST</td>\n",
       "      <td>Downtown</td>\n",
       "    </tr>\n",
       "    <tr>\n",
       "      <th>9</th>\n",
       "      <td>17 LIGHT ST</td>\n",
       "      <td>Downtown</td>\n",
       "    </tr>\n",
       "    <tr>\n",
       "      <th>19</th>\n",
       "      <td>15 S EUTAW ST</td>\n",
       "      <td>Downtown</td>\n",
       "    </tr>\n",
       "    <tr>\n",
       "      <th>20</th>\n",
       "      <td>15 S EUTAW ST</td>\n",
       "      <td>Downtown</td>\n",
       "    </tr>\n",
       "    <tr>\n",
       "      <th>28</th>\n",
       "      <td>300 WATER ST</td>\n",
       "      <td>Downtown</td>\n",
       "    </tr>\n",
       "    <tr>\n",
       "      <th>...</th>\n",
       "      <td>...</td>\n",
       "      <td>...</td>\n",
       "    </tr>\n",
       "    <tr>\n",
       "      <th>5651025</th>\n",
       "      <td>203 E 33RD ST</td>\n",
       "      <td>Charles Village</td>\n",
       "    </tr>\n",
       "    <tr>\n",
       "      <th>5651043</th>\n",
       "      <td>1157 RIVERSIDE AVE</td>\n",
       "      <td>Riverside</td>\n",
       "    </tr>\n",
       "    <tr>\n",
       "      <th>5651245</th>\n",
       "      <td>1000 LIGHT ST</td>\n",
       "      <td>Federal Hill</td>\n",
       "    </tr>\n",
       "    <tr>\n",
       "      <th>5651246</th>\n",
       "      <td>700 S BROADWAY</td>\n",
       "      <td>Fells Point</td>\n",
       "    </tr>\n",
       "    <tr>\n",
       "      <th>5651247</th>\n",
       "      <td>800 S BROADWAY</td>\n",
       "      <td>Fells Point</td>\n",
       "    </tr>\n",
       "  </tbody>\n",
       "</table>\n",
       "<p>244722 rows × 2 columns</p>\n",
       "</div>"
      ],
      "text/plain": [
       "                    Address     Neighborhood\n",
       "0        400 E BALTIMORE ST         Downtown\n",
       "9               17 LIGHT ST         Downtown\n",
       "19            15 S EUTAW ST         Downtown\n",
       "20            15 S EUTAW ST         Downtown\n",
       "28             300 WATER ST         Downtown\n",
       "...                     ...              ...\n",
       "5651025       203 E 33RD ST  Charles Village\n",
       "5651043  1157 RIVERSIDE AVE        Riverside\n",
       "5651245       1000 LIGHT ST     Federal Hill\n",
       "5651246      700 S BROADWAY      Fells Point\n",
       "5651247      800 S BROADWAY      Fells Point\n",
       "\n",
       "[244722 rows x 2 columns]"
      ]
     },
     "execution_count": 59,
     "metadata": {},
     "output_type": "execute_result"
    }
   ],
   "source": [
    "df[df['Neighborhood'].notna()][['Address', 'Neighborhood']]"
   ]
  },
  {
   "cell_type": "code",
   "execution_count": 54,
   "id": "82c96c54-d324-4543-8db5-4263a517c04d",
   "metadata": {},
   "outputs": [
    {
     "data": {
      "text/plain": [
       "(214, 10)"
      ]
     },
     "execution_count": 54,
     "metadata": {},
     "output_type": "execute_result"
    }
   ],
   "source": [
    "df_test.shape"
   ]
  },
  {
   "cell_type": "code",
   "execution_count": 56,
   "id": "20ecced7-2b77-4505-9f33-b3d643c002e7",
   "metadata": {},
   "outputs": [
    {
     "data": {
      "text/plain": [
       "(214, 2)"
      ]
     },
     "execution_count": 56,
     "metadata": {},
     "output_type": "execute_result"
    }
   ],
   "source": [
    "df_test = df[['Address', 'Location']].copy()\n",
    "df_test.shape"
   ]
  },
  {
   "cell_type": "code",
   "execution_count": 58,
   "id": "d3bbdd7f-c423-47ff-9758-997ee6ed7163",
   "metadata": {},
   "outputs": [
    {
     "name": "stderr",
     "output_type": "stream",
     "text": [
      "<>:33: SyntaxWarning: invalid escape sequence '\\d'\n",
      "<>:33: SyntaxWarning: invalid escape sequence '\\d'\n",
      "C:\\Users\\joelw\\AppData\\Local\\Temp\\ipykernel_17908\\2951937435.py:33: SyntaxWarning: invalid escape sequence '\\d'\n",
      "  \"\"\"df_test['Address'] = df_test['Address'].str.replace(\n"
     ]
    },
    {
     "data": {
      "text/plain": [
       "162"
      ]
     },
     "execution_count": 58,
     "metadata": {},
     "output_type": "execute_result"
    }
   ],
   "source": [
    "df_test = df[['Address', 'Location']].copy()\n",
    "df_test.shape\n",
    "df_test['Address'] = df_test['Address'].str.replace(r'\\b *O/S *\\b', '', regex=True)\n",
    "df_test['Address'] = df_test['Address'].str.replace(r'\\b *E/S *\\b', '', regex=True)\n",
    "df_test['Address'] = df_test['Address'].str.replace(r'\\b *BLOCK *\\b', ' ', regex=True)\n",
    "df_test['Address'] = df_test['Address'].str.replace(r'\\b *BLK *\\b', ' ', regex=True)\n",
    "df_test['Address'] = df_test['Address'].str.replace(r'\\b *UNIT *\\b', ' ', regex=True)\n",
    "\n",
    "df_test['Address'] = df_test['Address'].str.replace(r'\\b *AV\\b', ' AVE', regex=True)\n",
    "df_test['Address'] = df_test['Address'].str.replace(r'\\b *AVENUE\\b', ' AVE', regex=True)\n",
    "\n",
    "df_test['Address'] = df_test['Address'].str.replace(r'\\b *STR\\b', ' ST', regex=True)\n",
    "df_test['Address'] = df_test['Address'].str.replace(r'\\b *STREET\\b', ' ST', regex=True)\n",
    "\n",
    "df_test['Address'] = df_test['Address'].str.replace(r'\\b *PLACE\\b', ' PL', regex=True)\n",
    "df_test['Address'] = df_test['Address'].str.replace(r'\\b *PARKWAY\\b', ' PKWY', regex=True)\n",
    "df_test['Address'] = df_test['Address'].str.replace(r'\\b *COURT\\b', ' CT', regex=True)\n",
    "df_test['Address'] = df_test['Address'].str.replace(r'\\b *ROAD\\b', ' RD', regex=True)\n",
    "df_test['Address'] = df_test['Address'].str.replace(r'\\b *HIGHWAY\\b', ' HWY', regex=True)\n",
    "df_test['Address'] = df_test['Address'].str.replace(r'\\b *DRIVE\\b', ' DR', regex=True)\n",
    "df_test['Address'] = df_test['Address'].str.replace(r'\\b *BOULEVARD\\b', ' BLVD', regex=True)\n",
    "df_test['Address'] = df_test['Address'].str.replace(r'\\b *TERRACE\\b', ' TER', regex=True)\n",
    "df_test['Address'] = df_test['Address'].str.replace(r'\\b *LANE\\b', ' LN', regex=True)\n",
    "df_test['Address'] = df_test['Address'].str.replace(r'\\b *LA\\b', ' LN', regex=True)\n",
    "df_test['Address'] = df_test['Address'].str.replace(r'\\bUB\\b', '', regex=True) #University of Baltimore\n",
    "df_test['Address'] = df_test['Address'].str.replace(r'\\bU/B\\b', '', regex=True)\n",
    "df_test['Address'] = df_test['Address'].str.replace(r'\\b *EB*\\b', ' ', regex=True)\n",
    "df_test['Address'] = df_test['Address'].str.replace(r'\\b *WB*\\b', ' ', regex=True)\n",
    "df_test['Address'] = df_test['Address'].str.replace(r'\\b *NB*\\b', ' ', regex=True)\n",
    "df_test['Address'] = df_test['Address'].str.replace(r'\\b *SB*\\b', ' ', regex=True)\n",
    "\n",
    "\n",
    "\"\"\"df_test['Address'] = df_test['Address'].str.replace(\n",
    "    r'^(\\d{1,})(?=\\s)',  # first capture: any number of digits before space\n",
    "    lambda m: m.group(0)[:-2] + '00' if len(m.group(0)) >= 3 else m.group(0),\n",
    "    regex=True\n",
    ")\"\"\"\n",
    "\n",
    "#Addresses = df_test[\"Address\"].unique()\n",
    "#df_test = pd.DataFrame(Addresses, columns =[\"Address\"])\n",
    "df_test['OriginalAddress'] = df['Address'].copy()\n",
    "\n",
    "df_source = df_test.copy()\n",
    "\n",
    "df_test['Address'].nunique()"
   ]
  },
  {
   "cell_type": "code",
   "execution_count": 187,
   "id": "93a9966a-798e-44d5-9d2d-c5fed506a0eb",
   "metadata": {},
   "outputs": [
    {
     "data": {
      "text/html": [
       "<div>\n",
       "<style scoped>\n",
       "    .dataframe tbody tr th:only-of-type {\n",
       "        vertical-align: middle;\n",
       "    }\n",
       "\n",
       "    .dataframe tbody tr th {\n",
       "        vertical-align: top;\n",
       "    }\n",
       "\n",
       "    .dataframe thead th {\n",
       "        text-align: right;\n",
       "    }\n",
       "</style>\n",
       "<table border=\"1\" class=\"dataframe\">\n",
       "  <thead>\n",
       "    <tr style=\"text-align: right;\">\n",
       "      <th></th>\n",
       "      <th>Address</th>\n",
       "      <th>OriginalAddress</th>\n",
       "    </tr>\n",
       "  </thead>\n",
       "  <tbody>\n",
       "    <tr>\n",
       "      <th>7050</th>\n",
       "      <td>5400 FREDERICK AVE</td>\n",
       "      <td>E/S 200 BLK ST PAUL ST</td>\n",
       "    </tr>\n",
       "    <tr>\n",
       "      <th>7051</th>\n",
       "      <td>5500 EDMONDSON AVE</td>\n",
       "      <td>E/S 100 BLK ST PAUL ST</td>\n",
       "    </tr>\n",
       "    <tr>\n",
       "      <th>7052</th>\n",
       "      <td>2600 HOLLEY ST</td>\n",
       "      <td>O/S 100 NORTH LEXINGTON STREET</td>\n",
       "    </tr>\n",
       "    <tr>\n",
       "      <th>7053</th>\n",
       "      <td>UB S CURLEY ST</td>\n",
       "      <td>E/S ST PAUL</td>\n",
       "    </tr>\n",
       "    <tr>\n",
       "      <th>7054</th>\n",
       "      <td>400 EAST EAGER ST</td>\n",
       "      <td>E/S 100 N. CALVERT ST</td>\n",
       "    </tr>\n",
       "    <tr>\n",
       "      <th>7055</th>\n",
       "      <td>U/B S CASTLE ST</td>\n",
       "      <td>E/S 100 CALVERT ST</td>\n",
       "    </tr>\n",
       "    <tr>\n",
       "      <th>7056</th>\n",
       "      <td>U/B SOUTH CASTLE ST</td>\n",
       "      <td>E/S 100 N. CALVERT STREET</td>\n",
       "    </tr>\n",
       "    <tr>\n",
       "      <th>7057</th>\n",
       "      <td>1200 N CHESTER ST</td>\n",
       "      <td>E/S 100 N. CALVERT ST</td>\n",
       "    </tr>\n",
       "    <tr>\n",
       "      <th>7058</th>\n",
       "      <td>2400 OF BRENTWOOD</td>\n",
       "      <td>E/S 100 N CALVERT ST</td>\n",
       "    </tr>\n",
       "    <tr>\n",
       "      <th>7059</th>\n",
       "      <td>1600 NORMAL AVE</td>\n",
       "      <td>E/S 100 N CALVERT STREET</td>\n",
       "    </tr>\n",
       "    <tr>\n",
       "      <th>7060</th>\n",
       "      <td>1200 N BROADWAY</td>\n",
       "      <td>E/S 1800 ORLEANS ST</td>\n",
       "    </tr>\n",
       "    <tr>\n",
       "      <th>7061</th>\n",
       "      <td>500 E 23RD</td>\n",
       "      <td>E/S 1800 ORLEANS ST</td>\n",
       "    </tr>\n",
       "    <tr>\n",
       "      <th>7062</th>\n",
       "      <td>1400 BOND ST</td>\n",
       "      <td>O/S 1800 ORLEANS ST</td>\n",
       "    </tr>\n",
       "    <tr>\n",
       "      <th>7063</th>\n",
       "      <td>REAR OF 2300</td>\n",
       "      <td>E/S 1800 ORLEANS ST</td>\n",
       "    </tr>\n",
       "    <tr>\n",
       "      <th>7064</th>\n",
       "      <td>REAR OF 2100 BARCLAY</td>\n",
       "      <td>E/S 600 N WOLFE ST</td>\n",
       "    </tr>\n",
       "    <tr>\n",
       "      <th>7065</th>\n",
       "      <td>2700 MADISON</td>\n",
       "      <td>E/S 1800 BLK ORLEANS ST</td>\n",
       "    </tr>\n",
       "    <tr>\n",
       "      <th>7066</th>\n",
       "      <td>2300 TIOGAN</td>\n",
       "      <td>E/S 1800 BLK OF ORLEANS ST</td>\n",
       "    </tr>\n",
       "    <tr>\n",
       "      <th>7067</th>\n",
       "      <td>1800 RUTLAND AVE</td>\n",
       "      <td>E/S 100 ST PAUL ST</td>\n",
       "    </tr>\n",
       "    <tr>\n",
       "      <th>7068</th>\n",
       "      <td>PARKED ON WHIT LINE</td>\n",
       "      <td>E/S 100 ST PAUL PLACE</td>\n",
       "    </tr>\n",
       "    <tr>\n",
       "      <th>7069</th>\n",
       "      <td>900 EAGAR ST</td>\n",
       "      <td>E/S 100 N CALVERT STREET</td>\n",
       "    </tr>\n",
       "    <tr>\n",
       "      <th>7070</th>\n",
       "      <td>NaN</td>\n",
       "      <td>E/S 100 E LEXINGTON STREET</td>\n",
       "    </tr>\n",
       "    <tr>\n",
       "      <th>7071</th>\n",
       "      <td>1300 N MILTON AVE</td>\n",
       "      <td>E/S 200 ST PAUL PLACE</td>\n",
       "    </tr>\n",
       "    <tr>\n",
       "      <th>7072</th>\n",
       "      <td>1800 N BOND ST</td>\n",
       "      <td>E/S BLK N PACA STREET</td>\n",
       "    </tr>\n",
       "    <tr>\n",
       "      <th>7073</th>\n",
       "      <td>700 N MADEIVA ST</td>\n",
       "      <td>E/S</td>\n",
       "    </tr>\n",
       "    <tr>\n",
       "      <th>7074</th>\n",
       "      <td>N COLLINGTON AVE</td>\n",
       "      <td>E/S 100 N. CALVERT STREET</td>\n",
       "    </tr>\n",
       "    <tr>\n",
       "      <th>7075</th>\n",
       "      <td>2100 ORLEANS ST</td>\n",
       "      <td>E/S 100 N CALVERT STREET</td>\n",
       "    </tr>\n",
       "    <tr>\n",
       "      <th>7076</th>\n",
       "      <td>2800 E MONUMENT</td>\n",
       "      <td>E/S 100 N CALVERT ST</td>\n",
       "    </tr>\n",
       "    <tr>\n",
       "      <th>7077</th>\n",
       "      <td>2300 E NORTH AVE</td>\n",
       "      <td>E/S 100 N CALVERT ST</td>\n",
       "    </tr>\n",
       "    <tr>\n",
       "      <th>7078</th>\n",
       "      <td>1800 N DURHAM ST</td>\n",
       "      <td>E/S 100 N CALVERT ST</td>\n",
       "    </tr>\n",
       "    <tr>\n",
       "      <th>7079</th>\n",
       "      <td>1800 N DURHAM</td>\n",
       "      <td>E/S 100 N CALVERT ST</td>\n",
       "    </tr>\n",
       "  </tbody>\n",
       "</table>\n",
       "</div>"
      ],
      "text/plain": [
       "                   Address                 OriginalAddress\n",
       "7050    5400 FREDERICK AVE          E/S 200 BLK ST PAUL ST\n",
       "7051    5500 EDMONDSON AVE          E/S 100 BLK ST PAUL ST\n",
       "7052        2600 HOLLEY ST  O/S 100 NORTH LEXINGTON STREET\n",
       "7053        UB S CURLEY ST                     E/S ST PAUL\n",
       "7054     400 EAST EAGER ST           E/S 100 N. CALVERT ST\n",
       "7055       U/B S CASTLE ST              E/S 100 CALVERT ST\n",
       "7056   U/B SOUTH CASTLE ST       E/S 100 N. CALVERT STREET\n",
       "7057     1200 N CHESTER ST           E/S 100 N. CALVERT ST\n",
       "7058     2400 OF BRENTWOOD            E/S 100 N CALVERT ST\n",
       "7059       1600 NORMAL AVE        E/S 100 N CALVERT STREET\n",
       "7060       1200 N BROADWAY             E/S 1800 ORLEANS ST\n",
       "7061            500 E 23RD             E/S 1800 ORLEANS ST\n",
       "7062          1400 BOND ST             O/S 1800 ORLEANS ST\n",
       "7063         REAR OF 2300              E/S 1800 ORLEANS ST\n",
       "7064  REAR OF 2100 BARCLAY              E/S 600 N WOLFE ST\n",
       "7065          2700 MADISON         E/S 1800 BLK ORLEANS ST\n",
       "7066           2300 TIOGAN      E/S 1800 BLK OF ORLEANS ST\n",
       "7067      1800 RUTLAND AVE              E/S 100 ST PAUL ST\n",
       "7068   PARKED ON WHIT LINE           E/S 100 ST PAUL PLACE\n",
       "7069          900 EAGAR ST        E/S 100 N CALVERT STREET\n",
       "7070                   NaN      E/S 100 E LEXINGTON STREET\n",
       "7071     1300 N MILTON AVE           E/S 200 ST PAUL PLACE\n",
       "7072        1800 N BOND ST           E/S BLK N PACA STREET\n",
       "7073      700 N MADEIVA ST                             E/S\n",
       "7074      N COLLINGTON AVE       E/S 100 N. CALVERT STREET\n",
       "7075       2100 ORLEANS ST        E/S 100 N CALVERT STREET\n",
       "7076       2800 E MONUMENT            E/S 100 N CALVERT ST\n",
       "7077      2300 E NORTH AVE            E/S 100 N CALVERT ST\n",
       "7078      1800 N DURHAM ST            E/S 100 N CALVERT ST\n",
       "7079         1800 N DURHAM            E/S 100 N CALVERT ST"
      ]
     },
     "execution_count": 187,
     "metadata": {},
     "output_type": "execute_result"
    }
   ],
   "source": [
    "#errored aorund 7060, come back and check on that\n",
    "#Looks like it's an NaN issue\n",
    "df_source[7050:7080]"
   ]
  },
  {
   "cell_type": "code",
   "execution_count": 60,
   "id": "b1c85150-ea98-42de-9968-78df1da56d61",
   "metadata": {
    "scrolled": true
   },
   "outputs": [
    {
     "name": "stderr",
     "output_type": "stream",
     "text": [
      "C:\\Users\\joelw\\AppData\\Local\\Temp\\ipykernel_17908\\3461472644.py:25: SettingWithCopyWarning: \n",
      "A value is trying to be set on a copy of a slice from a DataFrame.\n",
      "Try using .loc[row_indexer,col_indexer] = value instead\n",
      "\n",
      "See the caveats in the documentation: https://pandas.pydata.org/pandas-docs/stable/user_guide/indexing.html#returning-a-view-versus-a-copy\n",
      "  df_test['Address'] = df_test['Address'].dropna()\n",
      "C:\\Users\\joelw\\AppData\\Local\\Temp\\ipykernel_17908\\3461472644.py:28: SettingWithCopyWarning: \n",
      "A value is trying to be set on a copy of a slice from a DataFrame.\n",
      "Try using .loc[row_indexer,col_indexer] = value instead\n",
      "\n",
      "See the caveats in the documentation: https://pandas.pydata.org/pandas-docs/stable/user_guide/indexing.html#returning-a-view-versus-a-copy\n",
      "  df_test['Address'] = df_test['Address'].str.replace(r'\\b *O/S *\\b', '', regex=True)\n",
      "C:\\Users\\joelw\\AppData\\Local\\Temp\\ipykernel_17908\\3461472644.py:29: SettingWithCopyWarning: \n",
      "A value is trying to be set on a copy of a slice from a DataFrame.\n",
      "Try using .loc[row_indexer,col_indexer] = value instead\n",
      "\n",
      "See the caveats in the documentation: https://pandas.pydata.org/pandas-docs/stable/user_guide/indexing.html#returning-a-view-versus-a-copy\n",
      "  df_test['Address'] = df_test['Address'].str.replace(r'\\b *E/S *\\b', '', regex=True)\n",
      "C:\\Users\\joelw\\AppData\\Local\\Temp\\ipykernel_17908\\3461472644.py:30: SettingWithCopyWarning: \n",
      "A value is trying to be set on a copy of a slice from a DataFrame.\n",
      "Try using .loc[row_indexer,col_indexer] = value instead\n",
      "\n",
      "See the caveats in the documentation: https://pandas.pydata.org/pandas-docs/stable/user_guide/indexing.html#returning-a-view-versus-a-copy\n",
      "  df_test['Address'] = df_test['Address'].str.replace(r'\\b *BLOCK *\\b', ' ', regex=True)\n",
      "C:\\Users\\joelw\\AppData\\Local\\Temp\\ipykernel_17908\\3461472644.py:31: SettingWithCopyWarning: \n",
      "A value is trying to be set on a copy of a slice from a DataFrame.\n",
      "Try using .loc[row_indexer,col_indexer] = value instead\n",
      "\n",
      "See the caveats in the documentation: https://pandas.pydata.org/pandas-docs/stable/user_guide/indexing.html#returning-a-view-versus-a-copy\n",
      "  df_test['Address'] = df_test['Address'].str.replace(r'\\b *BLK *\\b', ' ', regex=True)\n",
      "C:\\Users\\joelw\\AppData\\Local\\Temp\\ipykernel_17908\\3461472644.py:32: SettingWithCopyWarning: \n",
      "A value is trying to be set on a copy of a slice from a DataFrame.\n",
      "Try using .loc[row_indexer,col_indexer] = value instead\n",
      "\n",
      "See the caveats in the documentation: https://pandas.pydata.org/pandas-docs/stable/user_guide/indexing.html#returning-a-view-versus-a-copy\n",
      "  df_test['Address'] = df_test['Address'].str.replace(r'\\b *UNIT *\\b', ' ', regex=True)\n"
     ]
    },
    {
     "name": "stdout",
     "output_type": "stream",
     "text": [
      "                          Address  Location                 OriginalAddress\n",
      "160               5500 BELAIR RD        NaN           5500 BLK BELAIR RD WB\n",
      "161              5300 WABASH AVE        NaN          5300 BLK WABASH AVE WB\n",
      "162           200  NORTHERN PKWY        NaN      200 BLK E NORTHERN PKWY EB\n",
      "163           200  NORTHERN PKWY        NaN      200 BLK E NORTHERN PKWY WB\n",
      "164  3900 BK LIBERTY HEIGHTS AVE        NaN  3900 BK LIBERTY HEIGHTS AVE EB\n",
      "165     4400 LIBERTY HEIGHTS AVE        NaN  4400 BLK LIBERTY HEIGHTS AVE E\n",
      "166               2400 BOSTON ST        NaN           2400 BLK BOSTON ST SB\n",
      "167      1300 EAST NORTHERN PKWY        NaN  1300 BLK EAST NORTHERN PKWY WB\n",
      "168             5800 BELLONA AVE        NaN         5800 BLK BELLONA AVE NB\n",
      "169               4100 HILLEN RD        NaN               4100 HILLEN RD NB\n",
      "170             5900 WALTHER AVE        NaN         5900 BLK WALTHER AVE NB\n",
      "171                 500  28TH ST        NaN            500 BLK W 28TH ST EB\n",
      "172              6100 HARFORD RD        NaN          6100 BLK HARFORD RD NB\n",
      "173              5600 ROLAND AVE        NaN          5600 BLK ROLAND AVE SB\n",
      "174             2100  FAYETTE ST        NaN        2100 BLK E FAYETTE ST EB\n",
      "175      1200 EAST NORTHERN PKWY        NaN  1200 BLK EAST NORTHERN PKWY EB\n",
      "176          1600  BELVEDERE AVE        NaN     1600 BLK E BELVEDERE AVE WB\n",
      "177                  300 KANE ST        NaN              300 BLK KANE ST NB\n",
      "178               2400 BOSTON ST        NaN           2400 BLK BOSTON ST NB\n",
      "179               5900 SMITH AVE        NaN           5900 BLK SMITH AVE SB\n",
      "180           500 . PRESTON ST /B       NaN       500 BLK E. PRESTON ST W/B\n",
      "181                  100 KANE ST        NaN              100 BLK KANE ST SB\n",
      "182                1400  41ST ST        NaN           1400 BLK W 41ST ST WB\n",
      "183        2200  FOREST PARK AVE        NaN   2200 BLK N FOREST PARK AVE SB\n",
      "184         1200 SOUTH CATON AVE        NaN     1200 BLK SOUTH CATON AVE NB\n",
      "185         1200 SOUTH CATON AVE        NaN     1200 BLK SOUTH CATON AVE SB\n",
      "186     1300 WEST COLD SPRING LN        NaN  1300 BLK WEST COLD SPRING LN W\n",
      "187           600  NORTHERN PKWY        NaN      600 BLK W NORTHERN PKWY WB\n",
      "188               1000  WOLFE ST        NaN          1000 BLK N WOLFE ST SB\n",
      "189               1000  PRATT ST        NaN          1000 BLK E PRATT ST EB\n",
      "190                 1200 KEY HWY        NaN             1200 BLK KEY HWY SB\n",
      "191               5900 SMITH AVE        NaN           5900 BLK SMITH AVE NB\n",
      "192           600  NORTHERN PKWY        NaN      600 BLK W NORTHERN PKWY EB\n",
      "193         000  UNIVERSITY PKWY        NaN  000 BLK W UNIVERSITY PARKWAY E\n",
      "194               1200  FORT AVE        NaN          1200 BLK E FORT AVE EB\n",
      "195                 1300 KEY HWY        NaN             1300 BLK KEY HWY NB\n",
      "196            6100 O'DONNELL ST        NaN        6100 BLK O'DONNELL ST WB\n",
      "197         000  UNIVERSITY PKWY        NaN  000 BLK W UNIVERSITY PARKWAY W\n",
      "198            3700 FALLSTAFF RD        NaN        3700 BLK FALLSTAFF RD WB\n",
      "199     1300 WEST COLD SPRING LN        NaN  1300 BLK WEST COLD SPRING LN E\n",
      "200            3700 FALLSTAFF RD        NaN        3700 BLK FALLSTAFF RD EB\n",
      "201              4600 ROLAND AVE        NaN          4600 BLK ROLAND AVE NB\n",
      "202             5200  CHARLES ST        NaN        5200 BLK N CHARLES ST SB\n",
      "203             5000  CHARLES ST        NaN        5000 BLK N CHARLES ST NB\n",
      "204              4700 ROLAND AVE        NaN          4700 BLK ROLAND AVE SB\n",
      "205              5100 ROLAND AVE        NaN          5100 BLK ROLAND AVE SB\n",
      "206         100  UNIVERSITY PKWY        NaN  100 BLK W UNIVERSITY PARKWAY W\n",
      "207              5000 ROLAND AVE        NaN          5000 BLK ROLAND AVE NB\n",
      "208         7000 PARKHEIGHTS AVE        NaN      7000 BLK PARKHEIGHTS AV SB\n",
      "209         7000 PARKHEIGHTS AVE        NaN      7000 BLK PARKHEIGHTS AV NB\n",
      "160\n",
      "0.7661335468292236\n",
      "0 Minutes 0 Seconds Elapsed\n",
      "6 Minutes 23 Seconds Remaining\n",
      "170\n",
      "10.485443592071533\n",
      "0 Minutes 10 Seconds Elapsed\n",
      "7 Minutes 47 Seconds Remaining\n",
      "180\n",
      "21.689833641052246\n",
      "0 Minutes 21 Seconds Elapsed\n",
      "8 Minutes 15 Seconds Remaining\n",
      "190\n",
      "32.21013069152832\n",
      "0 Minutes 32 Seconds Elapsed\n",
      "8 Minutes 8 Seconds Remaining\n",
      "200\n",
      "42.957895040512085\n",
      "0 Minutes 42 Seconds Elapsed\n",
      "8 Minutes 1 Seconds Remaining\n",
      "210\n",
      "53.514779567718506\n",
      "0 Minutes 53 Seconds Elapsed\n",
      "7 Minutes 52 Seconds Remaining\n",
      "Done\n",
      "56.11406660079956\n"
     ]
    },
    {
     "name": "stderr",
     "output_type": "stream",
     "text": [
      "C:\\Users\\joelw\\AppData\\Local\\Temp\\ipykernel_17908\\3461472644.py:55: SettingWithCopyWarning: \n",
      "A value is trying to be set on a copy of a slice from a DataFrame.\n",
      "Try using .loc[row_indexer,col_indexer] = value instead\n",
      "\n",
      "See the caveats in the documentation: https://pandas.pydata.org/pandas-docs/stable/user_guide/indexing.html#returning-a-view-versus-a-copy\n",
      "  df_test[\"latitude\"], df_test[\"longitude\"] = zip(*results)\n",
      "C:\\Users\\joelw\\AppData\\Local\\Temp\\ipykernel_17908\\3461472644.py:55: SettingWithCopyWarning: \n",
      "A value is trying to be set on a copy of a slice from a DataFrame.\n",
      "Try using .loc[row_indexer,col_indexer] = value instead\n",
      "\n",
      "See the caveats in the documentation: https://pandas.pydata.org/pandas-docs/stable/user_guide/indexing.html#returning-a-view-versus-a-copy\n",
      "  df_test[\"latitude\"], df_test[\"longitude\"] = zip(*results)\n"
     ]
    },
    {
     "ename": "ValueError",
     "evalue": "not enough values to unpack (expected 2, got 0)",
     "output_type": "error",
     "traceback": [
      "\u001b[1;31m---------------------------------------------------------------------------\u001b[0m",
      "\u001b[1;31mValueError\u001b[0m                                Traceback (most recent call last)",
      "Cell \u001b[1;32mIn[60], line 55\u001b[0m\n\u001b[0;32m     52\u001b[0m         \u001b[38;5;28mprint\u001b[39m(\u001b[38;5;28mstr\u001b[39m(\u001b[38;5;28mint\u001b[39m(ellapsed \u001b[38;5;241m/\u001b[39m\u001b[38;5;241m/\u001b[39m \u001b[38;5;241m60\u001b[39m)) \u001b[38;5;241m+\u001b[39m\u001b[38;5;124m\"\u001b[39m\u001b[38;5;124m Minutes \u001b[39m\u001b[38;5;124m\"\u001b[39m\u001b[38;5;241m+\u001b[39m\u001b[38;5;28mstr\u001b[39m(\u001b[38;5;28mint\u001b[39m(ellapsed)\u001b[38;5;241m%\u001b[39m\u001b[38;5;241m60\u001b[39m) \u001b[38;5;241m+\u001b[39m\u001b[38;5;124m\"\u001b[39m\u001b[38;5;124m Seconds Elapsed\u001b[39m\u001b[38;5;124m\"\u001b[39m)\n\u001b[0;32m     53\u001b[0m         \u001b[38;5;28mprint\u001b[39m(\u001b[38;5;28mstr\u001b[39m(\u001b[38;5;28mint\u001b[39m(remaining) \u001b[38;5;241m/\u001b[39m\u001b[38;5;241m/\u001b[39m \u001b[38;5;241m60\u001b[39m) \u001b[38;5;241m+\u001b[39m\u001b[38;5;124m\"\u001b[39m\u001b[38;5;124m Minutes \u001b[39m\u001b[38;5;124m\"\u001b[39m\u001b[38;5;241m+\u001b[39m\u001b[38;5;28mstr\u001b[39m(\u001b[38;5;28mint\u001b[39m(remaining)\u001b[38;5;241m%\u001b[39m\u001b[38;5;241m60\u001b[39m) \u001b[38;5;241m+\u001b[39m\u001b[38;5;124m\"\u001b[39m\u001b[38;5;124m Seconds Remaining\u001b[39m\u001b[38;5;124m\"\u001b[39m)\n\u001b[1;32m---> 55\u001b[0m df_test[\u001b[38;5;124m\"\u001b[39m\u001b[38;5;124mlatitude\u001b[39m\u001b[38;5;124m\"\u001b[39m], df_test[\u001b[38;5;124m\"\u001b[39m\u001b[38;5;124mlongitude\u001b[39m\u001b[38;5;124m\"\u001b[39m] \u001b[38;5;241m=\u001b[39m \u001b[38;5;28mzip\u001b[39m(\u001b[38;5;241m*\u001b[39mresults)\n\u001b[0;32m     56\u001b[0m df_test\u001b[38;5;241m.\u001b[39mto_csv(\u001b[38;5;124m\"\u001b[39m\u001b[38;5;124mGeocodes/geocoded_addresses_\u001b[39m\u001b[38;5;124m\"\u001b[39m\u001b[38;5;241m+\u001b[39m\u001b[38;5;28mstr\u001b[39m(start_point)\u001b[38;5;241m+\u001b[39m\u001b[38;5;124m\"\u001b[39m\u001b[38;5;124m.csv\u001b[39m\u001b[38;5;124m\"\u001b[39m, index\u001b[38;5;241m=\u001b[39m\u001b[38;5;28;01mFalse\u001b[39;00m)\n\u001b[0;32m     58\u001b[0m end \u001b[38;5;241m=\u001b[39m time()\n",
      "\u001b[1;31mValueError\u001b[0m: not enough values to unpack (expected 2, got 0)"
     ]
    }
   ],
   "source": [
    "import pandas as pd\n",
    "from geopy.geocoders import Nominatim\n",
    "from geopy.exc import GeocoderTimedOut\n",
    "from time import sleep, time\n",
    "\n",
    "start_num = 160\n",
    "increment = 500\n",
    "list_set = range(start_num, 1000, increment)\n",
    "\n",
    "# Initialize geocoder\n",
    "geolocator = Nominatim(user_agent=\"geoapi\")\n",
    "\n",
    "def geocode_address(address):\n",
    "    try:\n",
    "        location = geolocator.geocode(address, timeout=10)\n",
    "        if location:\n",
    "            return location.latitude, location.longitude\n",
    "    except GeocoderTimedOut:\n",
    "        return None, None\n",
    "    return None, None\n",
    "\n",
    "# Load addresses (assume column 'address')\n",
    "#Addresses = df[\"Address\"].unique()\n",
    "df_test = df_source[start_num:start_num + increment] #pd.DataFrame(Addresses[start_num:start_num + increment], columns =[\"Address\"])\n",
    "df_test['Address'] = df_test['Address'].dropna()\n",
    "#df_test['OriginalAddress'] = df['Address'].copy()\n",
    "\n",
    "df_test['Address'] = df_test['Address'].str.replace(r'\\b *O/S *\\b', '', regex=True)\n",
    "df_test['Address'] = df_test['Address'].str.replace(r'\\b *E/S *\\b', '', regex=True)\n",
    "df_test['Address'] = df_test['Address'].str.replace(r'\\b *BLOCK *\\b', ' ', regex=True)\n",
    "df_test['Address'] = df_test['Address'].str.replace(r'\\b *BLK *\\b', ' ', regex=True)\n",
    "df_test['Address'] = df_test['Address'].str.replace(r'\\b *UNIT *\\b', ' ', regex=True)\n",
    "\n",
    "print(df_test.head(50))\n",
    "\n",
    "\n",
    "for start_point in list_set:\n",
    "    df_test = df_source[start_point:start_point + increment]\n",
    "    start= time()\n",
    "    \n",
    "    # Apply with rate-limiting\n",
    "    results = []\n",
    "    for idx, row in df_test.iterrows():\n",
    "        lat, lon = geocode_address(str(row[\"Address\"])+\", Baltimore, MD\")\n",
    "        results.append((lat, lon))\n",
    "        if idx%10 == 0:\n",
    "            print(idx)\n",
    "            ellapsed = time()-start\n",
    "            print(ellapsed)\n",
    "            ratio = ellapsed / (idx - start_point+1)\n",
    "            remaining = int(ratio * (increment + start_point -idx))\n",
    "            print(str(int(ellapsed // 60)) +\" Minutes \"+str(int(ellapsed)%60) +\" Seconds Elapsed\")\n",
    "            print(str(int(remaining) // 60) +\" Minutes \"+str(int(remaining)%60) +\" Seconds Remaining\")\n",
    "    \n",
    "    df_test[\"latitude\"], df_test[\"longitude\"] = zip(*results)\n",
    "    df_test.to_csv(\"Geocodes/geocoded_addresses_\"+str(start_point)+\".csv\", index=False)\n",
    "    \n",
    "    end = time()\n",
    "    print(\"Done\")\n",
    "    print(end-start)"
   ]
  },
  {
   "cell_type": "code",
   "execution_count": 28,
   "id": "279b648a-8fe2-4e66-9b07-820ff2b34b64",
   "metadata": {},
   "outputs": [
    {
     "data": {
      "text/html": [
       "<div>\n",
       "<style scoped>\n",
       "    .dataframe tbody tr th:only-of-type {\n",
       "        vertical-align: middle;\n",
       "    }\n",
       "\n",
       "    .dataframe tbody tr th {\n",
       "        vertical-align: top;\n",
       "    }\n",
       "\n",
       "    .dataframe thead th {\n",
       "        text-align: right;\n",
       "    }\n",
       "</style>\n",
       "<table border=\"1\" class=\"dataframe\">\n",
       "  <thead>\n",
       "    <tr style=\"text-align: right;\">\n",
       "      <th></th>\n",
       "      <th>Address</th>\n",
       "      <th>OriginalAddress</th>\n",
       "    </tr>\n",
       "  </thead>\n",
       "  <tbody>\n",
       "  </tbody>\n",
       "</table>\n",
       "</div>"
      ],
      "text/plain": [
       "Empty DataFrame\n",
       "Columns: [Address, OriginalAddress]\n",
       "Index: []"
      ]
     },
     "execution_count": 28,
     "metadata": {},
     "output_type": "execute_result"
    }
   ],
   "source": [
    "df_test"
   ]
  },
  {
   "cell_type": "code",
   "execution_count": 143,
   "id": "082461b1-3dae-4740-b985-cc3d450f02ed",
   "metadata": {},
   "outputs": [
    {
     "data": {
      "text/plain": [
       "Index(['Citation', 'Tag', 'ExpMM', 'ExpYY', 'State', 'Make', 'Address',\n",
       "       'ViolCode', 'Description', 'ViolFine', 'ViolDate', 'Balance',\n",
       "       'PenaltyDate', 'OpenFine', 'OpenPenalty', 'NoticeDate',\n",
       "       'InvestigationStatus', 'TrialStatus', 'GeneralStatus', 'GroupID',\n",
       "       'ImportDate', 'Neighborhood', 'PoliceDistrict', 'CouncilDistrict',\n",
       "       'Location', 'HashedRecord', 'NeedsSync', 'isDeleted', 'ESRI_OID',\n",
       "       'neighborhood'],\n",
       "      dtype='object')"
      ]
     },
     "execution_count": 143,
     "metadata": {},
     "output_type": "execute_result"
    }
   ],
   "source": [
    "df.columns"
   ]
  },
  {
   "cell_type": "code",
   "execution_count": 210,
   "id": "a2d89cc0-5649-4c6b-ba96-297b4f5c596c",
   "metadata": {},
   "outputs": [],
   "source": [
    "df_test['Address'].to_csv(\"raw_addresses.csv\")"
   ]
  }
 ],
 "metadata": {
  "kernelspec": {
   "display_name": "Python 3 (ipykernel)",
   "language": "python",
   "name": "python3"
  },
  "language_info": {
   "codemirror_mode": {
    "name": "ipython",
    "version": 3
   },
   "file_extension": ".py",
   "mimetype": "text/x-python",
   "name": "python",
   "nbconvert_exporter": "python",
   "pygments_lexer": "ipython3",
   "version": "3.12.4"
  }
 },
 "nbformat": 4,
 "nbformat_minor": 5
}
